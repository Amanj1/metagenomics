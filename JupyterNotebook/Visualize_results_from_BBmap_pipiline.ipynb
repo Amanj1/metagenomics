{
 "cells": [
  {
   "cell_type": "code",
   "execution_count": null,
   "metadata": {},
   "outputs": [],
   "source": [
    "import os\n",
    "import glob\n",
    "import re\n",
    "import pandas as pd\n",
    "import seaborn as sns\n",
    "import matplotlib.pyplot as plt\n"
   ]
  },
  {
   "cell_type": "code",
   "execution_count": null,
   "metadata": {},
   "outputs": [],
   "source": [
    "df=pd.read_csv('/home/amanj/Documents/jupyterNotebook/LCH_episome_mapped_reads.tsv', sep='\\t').sort_values(by=['SampleID'], ascending=False)\n",
    "df1=pd.read_csv('/home/amanj/Documents/jupyterNotebook/LCH_episome_mapped_reads.tsv', sep='\\t').drop(['pct_mapped'], axis=1).groupby(by=['SampleID','Reference']).sum().reset_index()\n",
    "\n",
    "col_name =df1.columns[1]\n",
    "df1=df1.rename(columns = {col_name:'Reference'})"
   ]
  },
  {
   "cell_type": "code",
   "execution_count": null,
   "metadata": {
    "scrolled": false
   },
   "outputs": [],
   "source": [
    "print(df1)"
   ]
  },
  {
   "cell_type": "code",
   "execution_count": null,
   "metadata": {},
   "outputs": [],
   "source": [
    "print(df)\n",
    "#df1.select(\"Reference\").show() "
   ]
  },
  {
   "cell_type": "code",
   "execution_count": null,
   "metadata": {},
   "outputs": [],
   "source": [
    "#print(df1['n_mapped'])"
   ]
  },
  {
   "cell_type": "code",
   "execution_count": null,
   "metadata": {},
   "outputs": [],
   "source": [
    "df2 = df1[df1.Reference == \"CMI2.214\"]\n",
    "df3 = df1[df1.Reference == \"CMI3.168\"]\n",
    "df4 = df1[df1.Reference == \"CMI4.158\"]\n",
    "df5 = df1[df1.Reference == \"HCBI3.108\"]\n",
    "df6 = df1[df1.Reference == \"HCBI5.173\"]\n",
    "df7 = df1[df1.Reference == \"MSBI1.176\"]\n",
    "df8 = df1[df1.Reference == \"MSBI2.176\"]\n",
    "\n"
   ]
  },
  {
   "cell_type": "code",
   "execution_count": null,
   "metadata": {},
   "outputs": [],
   "source": [
    "#df1.Reference == \"CMI1.252\"\n",
    "print(df2)\n",
    "print(df3) \n",
    "\n"
   ]
  },
  {
   "cell_type": "code",
   "execution_count": null,
   "metadata": {},
   "outputs": [],
   "source": [
    "#fig, axes = plt.subplots(nrows=4, ncols=2)\n",
    "\n",
    "df2.plot.bar(\"SampleID\",\"n_mapped\")\n",
    "df3.plot.bar(\"SampleID\",\"n_mapped\")\n",
    "df4.plot.bar(\"SampleID\",\"n_mapped\")\n",
    "df5.plot.bar(\"SampleID\",\"n_mapped\")\n",
    "df6.plot.bar(\"SampleID\",\"n_mapped\")\n",
    "df7.plot.bar(\"SampleID\",\"n_mapped\")\n",
    "df8.plot.bar(\"SampleID\",\"n_mapped\")\n",
    "#df2.plot.bar\n",
    "#plt.show()"
   ]
  },
  {
   "cell_type": "code",
   "execution_count": null,
   "metadata": {},
   "outputs": [],
   "source": [
    "#?df2.plot\n",
    "#fig, ax = plt.subplots()\n",
    "#df1.groupby('Reference').plot.line(x='SampleID', y='n_mapped', ax=ax, legend=True)\n",
    "plt.figure(figsize=(16, 6))\n",
    "plotFig = sns.lineplot('SampleID', 'n_mapped', data=df1, hue ='Reference')\n",
    "for item in plotFig.get_xticklabels():\n",
    "    item.set_rotation(60)\n",
    "\n",
    "\n",
    "\n",
    "\n"
   ]
  },
  {
   "cell_type": "code",
   "execution_count": null,
   "metadata": {},
   "outputs": [],
   "source": [
    "plt.figure(figsize=(16, 6))\n",
    "plotFig = sns.barplot('SampleID', 'n_mapped', data=df1, hue ='Reference')\n",
    "for item in plotFig.get_xticklabels():\n",
    "    item.set_rotation(60)"
   ]
  },
  {
   "cell_type": "code",
   "execution_count": null,
   "metadata": {},
   "outputs": [],
   "source": [
    "?df1.plot.line"
   ]
  },
  {
   "cell_type": "code",
   "execution_count": null,
   "metadata": {},
   "outputs": [],
   "source": [
    "plt.figure(figsize=(16, 6))\n",
    "plotFig = sns.scatterplot('SampleID', 'n_mapped', data=df1, hue ='Reference')\n",
    "for item in plotFig.get_xticklabels():\n",
    "    item.set_rotation(60)"
   ]
  },
  {
   "cell_type": "code",
   "execution_count": null,
   "metadata": {},
   "outputs": [],
   "source": []
  }
 ],
 "metadata": {
  "kernelspec": {
   "display_name": "Python 3",
   "language": "python",
   "name": "python3"
  },
  "language_info": {
   "codemirror_mode": {
    "name": "ipython",
    "version": 3
   },
   "file_extension": ".py",
   "mimetype": "text/x-python",
   "name": "python",
   "nbconvert_exporter": "python",
   "pygments_lexer": "ipython3",
   "version": "3.6.7"
  }
 },
 "nbformat": 4,
 "nbformat_minor": 2
}
